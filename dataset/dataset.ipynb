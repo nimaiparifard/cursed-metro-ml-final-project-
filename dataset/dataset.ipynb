{
 "cells": [
  {
   "cell_type": "code",
   "execution_count": null,
   "metadata": {},
   "outputs": [],
   "source": [
    "import pandas as pd\n",
    "from datetime import datetime, timedelta\n",
    "\n",
    "# Start date\n",
    "start_date = datetime.now()\n",
    "\n",
    "# End date (30 days later)\n",
    "end_date = start_date + timedelta(days=30)\n",
    "\n",
    "# Generate date range for 30 days\n",
    "dates = pd.date_range(start_date, end_date, freq='D')\n",
    "\n",
    "# Generate time range from 6:00 to 22:00 with 6-minute intervals\n",
    "times = pd.date_range(start='6:00', end='22:00', freq='6min').time\n",
    "\n",
    "# Create DataFrame\n",
    "df = pd.DataFrame(index=pd.MultiIndex.from_product([dates, times], names=['date', 'time']))\n",
    "\n",
    "# Reset the index\n",
    "df.reset_index(inplace=True)\n",
    "\n",
    "# Rename the column\n",
    "df.rename(columns={'level_1': 'time'}, inplace=True)\n",
    "\n",
    "# List of stations\n",
    "stations = ['tajrish', 'shariyiati', 'beheshti', 'dolat', 'mohammadie', 'kahrizak', 'sanaat', 'valiasr', 'theatre', 'molavi', 'basij', 'sattari', 'jahad', 'beheshti', 'heravi', 'ghaem', 'azadi', 'fersodi', 'shemiran', 'booali']\n",
    "\n",
    "# Duplicate rows for each station\n",
    "df = df.assign(key=1).merge(pd.DataFrame({'station': stations, 'key': 1}), on='key').drop(columns='key')\n",
    "\n",
    "# Add 'income' and 'outcome' columns and assign 0 to themdf['income'] = 0df['outcome'] = 0print(df)\n"
   ]
  }
 ],
 "metadata": {
  "language_info": {
   "name": "python"
  }
 },
 "nbformat": 4,
 "nbformat_minor": 2
}
