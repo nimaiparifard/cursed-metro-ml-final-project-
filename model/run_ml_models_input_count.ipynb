{
 "cells": [
  {
   "cell_type": "code",
   "execution_count": 10,
   "metadata": {
    "collapsed": true,
    "ExecuteTime": {
     "end_time": "2024-02-12T18:35:21.134490800Z",
     "start_time": "2024-02-12T18:35:21.098374Z"
    }
   },
   "outputs": [],
   "source": [
    "import pandas as pd\n",
    "import numpy as np\n",
    "import matplotlib.pyplot as plt\n",
    "from sklearn.model_selection import train_test_split\n",
    "from sklearn.preprocessing import PolynomialFeatures\n",
    "from sklearn.metrics import mean_squared_error\n",
    "from sklearn.svm import SVR\n",
    "from sklearn.linear_model import LinearRegression\n",
    "from sklearn.neighbors import KNeighborsRegressor\n",
    "from sklearn.ensemble import RandomForestRegressor\n",
    "import xgboost as xgb\n",
    "from sklearn.model_selection import GridSearchCV\n",
    "from sklearn.metrics import r2_score\n",
    "\n",
    "import warnings\n",
    "warnings.filterwarnings(action=\"ignore\")"
   ]
  },
  {
   "cell_type": "code",
   "execution_count": 2,
   "outputs": [],
   "source": [
    "metro_dataset = pd.read_csv(\"../dataset/metro_passenger_flow.csv\")\n",
    "# Perform one-hot encoding on station_name and line_number columns\n",
    "encoded_columns = pd.get_dummies(metro_dataset[['station_name', 'line_number']], dtype=int)\n",
    "\n",
    "# Replace the original columns with the encoded columns\n",
    "metro_dataset = pd.concat([metro_dataset.drop(['station_name', 'line_number'], axis=1), encoded_columns], axis=1,)\n",
    "\n",
    "# Print the updated dataset\n",
    "metro_dataset['is_crowed_station'] = metro_dataset['is_crowed_station'].astype(int)"
   ],
   "metadata": {
    "collapsed": false,
    "ExecuteTime": {
     "end_time": "2024-02-12T18:27:08.497400300Z",
     "start_time": "2024-02-12T18:27:07.506644Z"
    }
   }
  },
  {
   "cell_type": "code",
   "execution_count": 3,
   "outputs": [
    {
     "data": {
      "text/plain": "                timestamp  input_count  output_count  \\\n0     2024-01-01 06:00:00           27             0   \n1     2024-01-01 06:06:00           15             4   \n2     2024-01-01 06:12:00           12            14   \n3     2024-01-01 06:18:00            6            14   \n4     2024-01-01 06:24:00            8            19   \n...                   ...          ...           ...   \n4747  2024-01-01 22:06:00            8            15   \n4748  2024-01-01 22:12:00           13             8   \n4749  2024-01-01 22:18:00            8             7   \n4750  2024-01-01 22:24:00            9             9   \n4751  2024-01-01 22:30:00            0            36   \n\n      current_in_line_passengers  crowed_time_rate  is_crowed_station  \\\n0                             27               0.8                  1   \n1                             38               0.8                  0   \n2                             36               0.8                  0   \n3                             28               0.8                  1   \n4                             17               0.8                  1   \n...                          ...               ...                ...   \n4747                          30               0.8                  1   \n4748                          35               0.8                  0   \n4749                          36               0.8                  1   \n4750                          36               0.8                  0   \n4751                           0               0.8                  0   \n\n      is_weekend  is_holiday  station_name_Azadi  station_name_Basij  ...  \\\n0              1           1                   0                   0  ...   \n1              1           1                   0                   0  ...   \n2              1           1                   0                   0  ...   \n3              1           1                   0                   0  ...   \n4              1           1                   0                   0  ...   \n...          ...         ...                 ...                 ...  ...   \n4747           1           1                   0                   0  ...   \n4748           1           1                   0                   0  ...   \n4749           1           1                   0                   0  ...   \n4750           1           1                   0                   0  ...   \n4751           1           1                   0                   0  ...   \n\n      station_name_Shariati  station_name_Shemiran  station_name_Tajrish  \\\n0                         0                      0                     1   \n1                         1                      0                     0   \n2                         0                      0                     0   \n3                         0                      0                     0   \n4                         0                      0                     0   \n...                     ...                    ...                   ...   \n4747                      0                      0                     0   \n4748                      0                      0                     0   \n4749                      0                      0                     0   \n4750                      0                      1                     0   \n4751                      0                      0                     0   \n\n      station_name_Theather  station_name_Valiasr  station_name_ferdowsi  \\\n0                         0                     0                      0   \n1                         0                     0                      0   \n2                         0                     0                      0   \n3                         0                     0                      0   \n4                         0                     0                      0   \n...                     ...                   ...                    ...   \n4747                      1                     0                      0   \n4748                      0                     0                      1   \n4749                      0                     0                      0   \n4750                      0                     0                      0   \n4751                      0                     0                      0   \n\n      line_number_Line1  line_number_Line2  line_number_Line3  \\\n0                     1                  0                  0   \n1                     1                  0                  0   \n2                     1                  0                  0   \n3                     1                  0                  0   \n4                     1                  0                  0   \n...                 ...                ...                ...   \n4747                  0                  0                  0   \n4748                  0                  0                  0   \n4749                  0                  0                  0   \n4750                  0                  0                  0   \n4751                  0                  0                  0   \n\n      line_number_Line4  \n0                     0  \n1                     0  \n2                     0  \n3                     0  \n4                     0  \n...                 ...  \n4747                  1  \n4748                  1  \n4749                  1  \n4750                  1  \n4751                  1  \n\n[4752 rows x 30 columns]",
      "text/html": "<div>\n<style scoped>\n    .dataframe tbody tr th:only-of-type {\n        vertical-align: middle;\n    }\n\n    .dataframe tbody tr th {\n        vertical-align: top;\n    }\n\n    .dataframe thead th {\n        text-align: right;\n    }\n</style>\n<table border=\"1\" class=\"dataframe\">\n  <thead>\n    <tr style=\"text-align: right;\">\n      <th></th>\n      <th>timestamp</th>\n      <th>input_count</th>\n      <th>output_count</th>\n      <th>current_in_line_passengers</th>\n      <th>crowed_time_rate</th>\n      <th>is_crowed_station</th>\n      <th>is_weekend</th>\n      <th>is_holiday</th>\n      <th>station_name_Azadi</th>\n      <th>station_name_Basij</th>\n      <th>...</th>\n      <th>station_name_Shariati</th>\n      <th>station_name_Shemiran</th>\n      <th>station_name_Tajrish</th>\n      <th>station_name_Theather</th>\n      <th>station_name_Valiasr</th>\n      <th>station_name_ferdowsi</th>\n      <th>line_number_Line1</th>\n      <th>line_number_Line2</th>\n      <th>line_number_Line3</th>\n      <th>line_number_Line4</th>\n    </tr>\n  </thead>\n  <tbody>\n    <tr>\n      <th>0</th>\n      <td>2024-01-01 06:00:00</td>\n      <td>27</td>\n      <td>0</td>\n      <td>27</td>\n      <td>0.8</td>\n      <td>1</td>\n      <td>1</td>\n      <td>1</td>\n      <td>0</td>\n      <td>0</td>\n      <td>...</td>\n      <td>0</td>\n      <td>0</td>\n      <td>1</td>\n      <td>0</td>\n      <td>0</td>\n      <td>0</td>\n      <td>1</td>\n      <td>0</td>\n      <td>0</td>\n      <td>0</td>\n    </tr>\n    <tr>\n      <th>1</th>\n      <td>2024-01-01 06:06:00</td>\n      <td>15</td>\n      <td>4</td>\n      <td>38</td>\n      <td>0.8</td>\n      <td>0</td>\n      <td>1</td>\n      <td>1</td>\n      <td>0</td>\n      <td>0</td>\n      <td>...</td>\n      <td>1</td>\n      <td>0</td>\n      <td>0</td>\n      <td>0</td>\n      <td>0</td>\n      <td>0</td>\n      <td>1</td>\n      <td>0</td>\n      <td>0</td>\n      <td>0</td>\n    </tr>\n    <tr>\n      <th>2</th>\n      <td>2024-01-01 06:12:00</td>\n      <td>12</td>\n      <td>14</td>\n      <td>36</td>\n      <td>0.8</td>\n      <td>0</td>\n      <td>1</td>\n      <td>1</td>\n      <td>0</td>\n      <td>0</td>\n      <td>...</td>\n      <td>0</td>\n      <td>0</td>\n      <td>0</td>\n      <td>0</td>\n      <td>0</td>\n      <td>0</td>\n      <td>1</td>\n      <td>0</td>\n      <td>0</td>\n      <td>0</td>\n    </tr>\n    <tr>\n      <th>3</th>\n      <td>2024-01-01 06:18:00</td>\n      <td>6</td>\n      <td>14</td>\n      <td>28</td>\n      <td>0.8</td>\n      <td>1</td>\n      <td>1</td>\n      <td>1</td>\n      <td>0</td>\n      <td>0</td>\n      <td>...</td>\n      <td>0</td>\n      <td>0</td>\n      <td>0</td>\n      <td>0</td>\n      <td>0</td>\n      <td>0</td>\n      <td>1</td>\n      <td>0</td>\n      <td>0</td>\n      <td>0</td>\n    </tr>\n    <tr>\n      <th>4</th>\n      <td>2024-01-01 06:24:00</td>\n      <td>8</td>\n      <td>19</td>\n      <td>17</td>\n      <td>0.8</td>\n      <td>1</td>\n      <td>1</td>\n      <td>1</td>\n      <td>0</td>\n      <td>0</td>\n      <td>...</td>\n      <td>0</td>\n      <td>0</td>\n      <td>0</td>\n      <td>0</td>\n      <td>0</td>\n      <td>0</td>\n      <td>1</td>\n      <td>0</td>\n      <td>0</td>\n      <td>0</td>\n    </tr>\n    <tr>\n      <th>...</th>\n      <td>...</td>\n      <td>...</td>\n      <td>...</td>\n      <td>...</td>\n      <td>...</td>\n      <td>...</td>\n      <td>...</td>\n      <td>...</td>\n      <td>...</td>\n      <td>...</td>\n      <td>...</td>\n      <td>...</td>\n      <td>...</td>\n      <td>...</td>\n      <td>...</td>\n      <td>...</td>\n      <td>...</td>\n      <td>...</td>\n      <td>...</td>\n      <td>...</td>\n      <td>...</td>\n    </tr>\n    <tr>\n      <th>4747</th>\n      <td>2024-01-01 22:06:00</td>\n      <td>8</td>\n      <td>15</td>\n      <td>30</td>\n      <td>0.8</td>\n      <td>1</td>\n      <td>1</td>\n      <td>1</td>\n      <td>0</td>\n      <td>0</td>\n      <td>...</td>\n      <td>0</td>\n      <td>0</td>\n      <td>0</td>\n      <td>1</td>\n      <td>0</td>\n      <td>0</td>\n      <td>0</td>\n      <td>0</td>\n      <td>0</td>\n      <td>1</td>\n    </tr>\n    <tr>\n      <th>4748</th>\n      <td>2024-01-01 22:12:00</td>\n      <td>13</td>\n      <td>8</td>\n      <td>35</td>\n      <td>0.8</td>\n      <td>0</td>\n      <td>1</td>\n      <td>1</td>\n      <td>0</td>\n      <td>0</td>\n      <td>...</td>\n      <td>0</td>\n      <td>0</td>\n      <td>0</td>\n      <td>0</td>\n      <td>0</td>\n      <td>1</td>\n      <td>0</td>\n      <td>0</td>\n      <td>0</td>\n      <td>1</td>\n    </tr>\n    <tr>\n      <th>4749</th>\n      <td>2024-01-01 22:18:00</td>\n      <td>8</td>\n      <td>7</td>\n      <td>36</td>\n      <td>0.8</td>\n      <td>1</td>\n      <td>1</td>\n      <td>1</td>\n      <td>0</td>\n      <td>0</td>\n      <td>...</td>\n      <td>0</td>\n      <td>0</td>\n      <td>0</td>\n      <td>0</td>\n      <td>0</td>\n      <td>0</td>\n      <td>0</td>\n      <td>0</td>\n      <td>0</td>\n      <td>1</td>\n    </tr>\n    <tr>\n      <th>4750</th>\n      <td>2024-01-01 22:24:00</td>\n      <td>9</td>\n      <td>9</td>\n      <td>36</td>\n      <td>0.8</td>\n      <td>0</td>\n      <td>1</td>\n      <td>1</td>\n      <td>0</td>\n      <td>0</td>\n      <td>...</td>\n      <td>0</td>\n      <td>1</td>\n      <td>0</td>\n      <td>0</td>\n      <td>0</td>\n      <td>0</td>\n      <td>0</td>\n      <td>0</td>\n      <td>0</td>\n      <td>1</td>\n    </tr>\n    <tr>\n      <th>4751</th>\n      <td>2024-01-01 22:30:00</td>\n      <td>0</td>\n      <td>36</td>\n      <td>0</td>\n      <td>0.8</td>\n      <td>0</td>\n      <td>1</td>\n      <td>1</td>\n      <td>0</td>\n      <td>0</td>\n      <td>...</td>\n      <td>0</td>\n      <td>0</td>\n      <td>0</td>\n      <td>0</td>\n      <td>0</td>\n      <td>0</td>\n      <td>0</td>\n      <td>0</td>\n      <td>0</td>\n      <td>1</td>\n    </tr>\n  </tbody>\n</table>\n<p>4752 rows × 30 columns</p>\n</div>"
     },
     "execution_count": 3,
     "metadata": {},
     "output_type": "execute_result"
    }
   ],
   "source": [
    "metro_dataset"
   ],
   "metadata": {
    "collapsed": false,
    "ExecuteTime": {
     "end_time": "2024-02-12T18:27:08.497400300Z",
     "start_time": "2024-02-12T18:27:07.506644Z"
    }
   }
  },
  {
   "cell_type": "code",
   "execution_count": 4,
   "outputs": [],
   "source": [
    "from datetime import datetime\n",
    "def update_crowded_rate(timestamp):\n",
    "    timestamp = datetime.strptime(timestamp, \"%Y-%m-%d %H:%M:%S\")\n",
    "    if timestamp.hour > 6 and timestamp.hour < 8:\n",
    "        return 0.8\n",
    "    elif timestamp.hour >= 8 and timestamp.hour < 12:\n",
    "        return 1.2\n",
    "    elif timestamp.hour >= 12 and timestamp.hour < 16:\n",
    "        return 1\n",
    "    elif timestamp.hour >= 16 and timestamp.hour < 20:\n",
    "        return 1.2\n",
    "    else:\n",
    "        return 0.8\n",
    "\n",
    "metro_dataset['timestamp'] = metro_dataset['timestamp'].apply(update_crowded_rate)"
   ],
   "metadata": {
    "collapsed": false,
    "ExecuteTime": {
     "end_time": "2024-02-12T18:27:08.498394300Z",
     "start_time": "2024-02-12T18:27:07.506644Z"
    }
   }
  },
  {
   "cell_type": "code",
   "execution_count": 5,
   "outputs": [],
   "source": [
    "train_data, test_data = train_test_split(metro_dataset, test_size=0.2, random_state=42)\n",
    "train_data, val_data = train_test_split(train_data, test_size=0.2, random_state=42)\n",
    "\n",
    "# Extract the target column (input_count)\n",
    "train_target = train_data['input_count']\n",
    "val_target = val_data['input_count']\n",
    "test_target = test_data['input_count']"
   ],
   "metadata": {
    "collapsed": false,
    "ExecuteTime": {
     "end_time": "2024-02-12T18:27:08.498394300Z",
     "start_time": "2024-02-12T18:27:07.506644Z"
    }
   }
  },
  {
   "cell_type": "code",
   "execution_count": 6,
   "outputs": [],
   "source": [
    "# Perform polynomial feature transformation\n",
    "poly = PolynomialFeatures(degree=2)\n",
    "train_data_poly = poly.fit_transform(train_data.drop('input_count', axis=1))\n",
    "val_data_poly = poly.transform(val_data.drop('input_count', axis=1))\n",
    "test_data_poly = poly.transform(test_data.drop('input_count', axis=1))"
   ],
   "metadata": {
    "collapsed": false,
    "ExecuteTime": {
     "end_time": "2024-02-12T18:27:10.978529300Z",
     "start_time": "2024-02-12T18:27:10.950911300Z"
    }
   }
  },
  {
   "cell_type": "code",
   "execution_count": 11,
   "outputs": [],
   "source": [
    "# Linear Regression\n",
    "linear_model = LinearRegression()\n",
    "linear_model.fit(train_data_poly, train_target)\n",
    "linear_predictions = linear_model.predict(val_data_poly)\n",
    "linear_rmse = np.sqrt(mean_squared_error(val_target, linear_predictions))\n",
    "linear_r2 = r2_score(val_target, linear_predictions)"
   ],
   "metadata": {
    "collapsed": false,
    "ExecuteTime": {
     "end_time": "2024-02-12T18:35:26.006644300Z",
     "start_time": "2024-02-12T18:35:25.911095400Z"
    }
   }
  },
  {
   "cell_type": "code",
   "execution_count": 12,
   "outputs": [],
   "source": [
    "# XGBoost\n",
    "xgb_model = xgb.XGBRegressor()\n",
    "xgb_params = {\n",
    "    'n_estimators': [100, 200, 300],\n",
    "    'max_depth': [3, 4, 5]\n",
    "}\n",
    "xgb_grid = GridSearchCV(xgb_model, xgb_params, scoring='neg_root_mean_squared_error', cv=3)\n",
    "xgb_grid.fit(train_data_poly, train_target)\n",
    "xgb_model = xgb_grid.best_estimator_\n",
    "xgb_predictions = xgb_model.predict(val_data_poly)\n",
    "xgb_rmse = np.sqrt(mean_squared_error(val_target, xgb_predictions))\n",
    "xgb_r2 = r2_score(val_target, xgb_predictions)"
   ],
   "metadata": {
    "collapsed": false,
    "ExecuteTime": {
     "end_time": "2024-02-12T18:36:07.147539700Z",
     "start_time": "2024-02-12T18:35:27.395419700Z"
    }
   }
  },
  {
   "cell_type": "code",
   "execution_count": 13,
   "outputs": [],
   "source": [
    "# Random Forest Regression\n",
    "rf_model = RandomForestRegressor()\n",
    "rf_params = {\n",
    "    'n_estimators': [100, 200, 300],\n",
    "    'max_depth': [3, 4, 5]\n",
    "}\n",
    "rf_grid = GridSearchCV(rf_model, rf_params, scoring='neg_root_mean_squared_error', cv=3)\n",
    "rf_grid.fit(train_data_poly, train_target)\n",
    "rf_model = rf_grid.best_estimator_\n",
    "rf_predictions = rf_model.predict(val_data_poly)\n",
    "rf_rmse = np.sqrt(mean_squared_error(val_target, rf_predictions))\n",
    "rf_r2 = r2_score(val_target, rf_predictions)"
   ],
   "metadata": {
    "collapsed": false,
    "ExecuteTime": {
     "end_time": "2024-02-12T18:37:26.756528100Z",
     "start_time": "2024-02-12T18:36:07.151532Z"
    }
   }
  },
  {
   "cell_type": "code",
   "execution_count": 15,
   "outputs": [
    {
     "name": "stdout",
     "output_type": "stream",
     "text": [
      "XGBoost RMSE: 3.135227852764054\n",
      "XGBoost R-squared: 0.9360950199144478\n",
      "Linear Regression RMSE: 5.206029985069455\n",
      "Linear Regression R-squared: 0.8237984125203482\n",
      "Random Forest Regression RMSE: 3.067669842356795\n",
      "Random Forest Regression R-squared: 0.9388194016238998\n"
     ]
    }
   ],
   "source": [
    "\n",
    "\n",
    "# Save the models and their RMSE values\n",
    "models = {\n",
    "    'XGBoost': xgb_model,\n",
    "    'Linear Regression': linear_model,\n",
    "    'Random Forest Regression': rf_model\n",
    "}\n",
    "\n",
    "rmse_values = {\n",
    "    'XGBoost': xgb_rmse,\n",
    "    'Linear Regression': linear_rmse,\n",
    "    'Random Forest Regression': rf_rmse\n",
    "}\n",
    "\n",
    "r2_scores = {\n",
    "    'Linear Regression': linear_r2,\n",
    "    'Random Forest Regression': rf_r2,\n",
    "    'XGBoost': xgb_r2\n",
    "}\n",
    "\n",
    "# Print the RMSE values\n",
    "for model_name, rmse in rmse_values.items():\n",
    "    r2 = r2_scores[model_name]\n",
    "    print(f\"{model_name} RMSE: {rmse}\")\n",
    "    print(f\"{model_name} R-squared: {r2}\")\n"
   ],
   "metadata": {
    "collapsed": false,
    "ExecuteTime": {
     "end_time": "2024-02-12T18:39:00.140400500Z",
     "start_time": "2024-02-12T18:39:00.121683100Z"
    }
   }
  },
  {
   "cell_type": "code",
   "execution_count": 18,
   "outputs": [],
   "source": [
    "import pickle\n",
    "file_name = \"input_rate_model_xgb.pkl\"\n",
    "# save\n",
    "pickle.dump(xgb_model, open(file_name, \"wb\"))"
   ],
   "metadata": {
    "collapsed": false,
    "ExecuteTime": {
     "end_time": "2024-02-12T18:51:32.669027300Z",
     "start_time": "2024-02-12T18:51:32.630513100Z"
    }
   }
  },
  {
   "cell_type": "code",
   "execution_count": 19,
   "outputs": [],
   "source": [
    "# load\n",
    "xgb_model_loaded = pickle.load(open(file_name, \"rb\"))"
   ],
   "metadata": {
    "collapsed": false,
    "ExecuteTime": {
     "end_time": "2024-02-12T18:51:34.476276Z",
     "start_time": "2024-02-12T18:51:34.451319600Z"
    }
   }
  }
 ],
 "metadata": {
  "kernelspec": {
   "display_name": "Python 3",
   "language": "python",
   "name": "python3"
  },
  "language_info": {
   "codemirror_mode": {
    "name": "ipython",
    "version": 2
   },
   "file_extension": ".py",
   "mimetype": "text/x-python",
   "name": "python",
   "nbconvert_exporter": "python",
   "pygments_lexer": "ipython2",
   "version": "2.7.6"
  }
 },
 "nbformat": 4,
 "nbformat_minor": 0
}
