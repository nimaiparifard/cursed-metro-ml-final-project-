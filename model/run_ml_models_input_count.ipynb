{
 "cells": [
  {
   "cell_type": "code",
   "execution_count": 1,
   "metadata": {
    "collapsed": true,
    "ExecuteTime": {
     "end_time": "2024-02-14T12:51:10.249798200Z",
     "start_time": "2024-02-14T12:51:06.537003500Z"
    }
   },
   "outputs": [],
   "source": [
    "import pandas as pd\n",
    "import numpy as np\n",
    "import matplotlib.pyplot as plt\n",
    "from sklearn.model_selection import train_test_split\n",
    "from sklearn.preprocessing import PolynomialFeatures\n",
    "from sklearn.metrics import mean_squared_error\n",
    "from sklearn.svm import SVR\n",
    "from sklearn.linear_model import LinearRegression\n",
    "from sklearn.neighbors import KNeighborsRegressor\n",
    "from sklearn.ensemble import RandomForestRegressor\n",
    "import xgboost as xgb\n",
    "from sklearn.model_selection import GridSearchCV\n",
    "from sklearn.metrics import r2_score\n",
    "\n",
    "import warnings\n",
    "warnings.filterwarnings(action=\"ignore\")"
   ]
  },
  {
   "cell_type": "code",
   "execution_count": 2,
   "outputs": [],
   "source": [
    "metro_dataset = pd.read_csv(\"../dataset/metro_passenger_flow.csv\")\n",
    "# Perform one-hot encoding on station_name and line_number columns\n",
    "encoded_columns = pd.get_dummies(metro_dataset[['station_name', 'line_number']], dtype=int)\n",
    "\n",
    "# Replace the original columns with the encoded columns\n",
    "metro_dataset = pd.concat([metro_dataset.drop(['station_name', 'line_number'], axis=1), encoded_columns], axis=1,)\n",
    "\n",
    "# Print the updated dataset\n",
    "metro_dataset['is_crowed_station'] = metro_dataset['is_crowed_station'].astype(int)"
   ],
   "metadata": {
    "collapsed": false,
    "ExecuteTime": {
     "end_time": "2024-02-14T12:51:10.280167500Z",
     "start_time": "2024-02-14T12:51:10.254788700Z"
    }
   }
  },
  {
   "cell_type": "code",
   "execution_count": 3,
   "outputs": [
    {
     "data": {
      "text/plain": "                timestamp  input_count  output_count  crowed_time_rate  \\\n0     2024-01-01 06:00:00           31             0               0.8   \n1     2024-01-01 06:06:00            9             6               0.8   \n2     2024-01-01 06:12:00            5            10               0.8   \n3     2024-01-01 06:18:00           11            12               0.8   \n4     2024-01-01 06:24:00           18            17               0.8   \n...                   ...          ...           ...               ...   \n3739  2024-01-01 21:36:00            8             9               0.8   \n3740  2024-01-01 21:42:00           10            12               0.8   \n3741  2024-01-01 21:48:00            5            19               0.8   \n3742  2024-01-01 21:54:00           10            11               0.8   \n3743  2024-01-01 22:00:00            0            10               0.8   \n\n      is_crowed_station  is_weekend  is_holiday  station_name_Azadi  \\\n0                     1           0           0                   0   \n1                     0           0           0                   0   \n2                     0           0           0                   0   \n3                     1           0           0                   0   \n4                     1           0           0                   0   \n...                 ...         ...         ...                 ...   \n3739                  1           0           0                   0   \n3740                  0           0           0                   0   \n3741                  1           0           0                   0   \n3742                  0           0           0                   0   \n3743                  0           0           0                   0   \n\n      station_name_Basij  station_name_Beheshti  ...  station_name_Shariati  \\\n0                      0                      0  ...                      0   \n1                      0                      0  ...                      1   \n2                      0                      1  ...                      0   \n3                      0                      0  ...                      0   \n4                      0                      0  ...                      0   \n...                  ...                    ...  ...                    ...   \n3739                   0                      0  ...                      0   \n3740                   0                      0  ...                      0   \n3741                   0                      0  ...                      0   \n3742                   0                      0  ...                      0   \n3743                   0                      0  ...                      0   \n\n      station_name_Shemiran  station_name_Tajrish  station_name_Theather  \\\n0                         0                     1                      0   \n1                         0                     0                      0   \n2                         0                     0                      0   \n3                         0                     0                      0   \n4                         0                     0                      0   \n...                     ...                   ...                    ...   \n3739                      0                     0                      1   \n3740                      0                     0                      0   \n3741                      0                     0                      0   \n3742                      1                     0                      0   \n3743                      0                     0                      0   \n\n      station_name_Valiasr  station_name_ferdowsi  line_number_Line1  \\\n0                        0                      0                  1   \n1                        0                      0                  1   \n2                        0                      0                  1   \n3                        0                      0                  1   \n4                        0                      0                  1   \n...                    ...                    ...                ...   \n3739                     0                      0                  0   \n3740                     0                      1                  0   \n3741                     0                      0                  0   \n3742                     0                      0                  0   \n3743                     0                      0                  0   \n\n      line_number_Line2  line_number_Line3  line_number_Line4  \n0                     0                  0                  0  \n1                     0                  0                  0  \n2                     0                  0                  0  \n3                     0                  0                  0  \n4                     0                  0                  0  \n...                 ...                ...                ...  \n3739                  0                  0                  1  \n3740                  0                  0                  1  \n3741                  0                  0                  1  \n3742                  0                  0                  1  \n3743                  0                  0                  1  \n\n[3744 rows x 29 columns]",
      "text/html": "<div>\n<style scoped>\n    .dataframe tbody tr th:only-of-type {\n        vertical-align: middle;\n    }\n\n    .dataframe tbody tr th {\n        vertical-align: top;\n    }\n\n    .dataframe thead th {\n        text-align: right;\n    }\n</style>\n<table border=\"1\" class=\"dataframe\">\n  <thead>\n    <tr style=\"text-align: right;\">\n      <th></th>\n      <th>timestamp</th>\n      <th>input_count</th>\n      <th>output_count</th>\n      <th>crowed_time_rate</th>\n      <th>is_crowed_station</th>\n      <th>is_weekend</th>\n      <th>is_holiday</th>\n      <th>station_name_Azadi</th>\n      <th>station_name_Basij</th>\n      <th>station_name_Beheshti</th>\n      <th>...</th>\n      <th>station_name_Shariati</th>\n      <th>station_name_Shemiran</th>\n      <th>station_name_Tajrish</th>\n      <th>station_name_Theather</th>\n      <th>station_name_Valiasr</th>\n      <th>station_name_ferdowsi</th>\n      <th>line_number_Line1</th>\n      <th>line_number_Line2</th>\n      <th>line_number_Line3</th>\n      <th>line_number_Line4</th>\n    </tr>\n  </thead>\n  <tbody>\n    <tr>\n      <th>0</th>\n      <td>2024-01-01 06:00:00</td>\n      <td>31</td>\n      <td>0</td>\n      <td>0.8</td>\n      <td>1</td>\n      <td>0</td>\n      <td>0</td>\n      <td>0</td>\n      <td>0</td>\n      <td>0</td>\n      <td>...</td>\n      <td>0</td>\n      <td>0</td>\n      <td>1</td>\n      <td>0</td>\n      <td>0</td>\n      <td>0</td>\n      <td>1</td>\n      <td>0</td>\n      <td>0</td>\n      <td>0</td>\n    </tr>\n    <tr>\n      <th>1</th>\n      <td>2024-01-01 06:06:00</td>\n      <td>9</td>\n      <td>6</td>\n      <td>0.8</td>\n      <td>0</td>\n      <td>0</td>\n      <td>0</td>\n      <td>0</td>\n      <td>0</td>\n      <td>0</td>\n      <td>...</td>\n      <td>1</td>\n      <td>0</td>\n      <td>0</td>\n      <td>0</td>\n      <td>0</td>\n      <td>0</td>\n      <td>1</td>\n      <td>0</td>\n      <td>0</td>\n      <td>0</td>\n    </tr>\n    <tr>\n      <th>2</th>\n      <td>2024-01-01 06:12:00</td>\n      <td>5</td>\n      <td>10</td>\n      <td>0.8</td>\n      <td>0</td>\n      <td>0</td>\n      <td>0</td>\n      <td>0</td>\n      <td>0</td>\n      <td>1</td>\n      <td>...</td>\n      <td>0</td>\n      <td>0</td>\n      <td>0</td>\n      <td>0</td>\n      <td>0</td>\n      <td>0</td>\n      <td>1</td>\n      <td>0</td>\n      <td>0</td>\n      <td>0</td>\n    </tr>\n    <tr>\n      <th>3</th>\n      <td>2024-01-01 06:18:00</td>\n      <td>11</td>\n      <td>12</td>\n      <td>0.8</td>\n      <td>1</td>\n      <td>0</td>\n      <td>0</td>\n      <td>0</td>\n      <td>0</td>\n      <td>0</td>\n      <td>...</td>\n      <td>0</td>\n      <td>0</td>\n      <td>0</td>\n      <td>0</td>\n      <td>0</td>\n      <td>0</td>\n      <td>1</td>\n      <td>0</td>\n      <td>0</td>\n      <td>0</td>\n    </tr>\n    <tr>\n      <th>4</th>\n      <td>2024-01-01 06:24:00</td>\n      <td>18</td>\n      <td>17</td>\n      <td>0.8</td>\n      <td>1</td>\n      <td>0</td>\n      <td>0</td>\n      <td>0</td>\n      <td>0</td>\n      <td>0</td>\n      <td>...</td>\n      <td>0</td>\n      <td>0</td>\n      <td>0</td>\n      <td>0</td>\n      <td>0</td>\n      <td>0</td>\n      <td>1</td>\n      <td>0</td>\n      <td>0</td>\n      <td>0</td>\n    </tr>\n    <tr>\n      <th>...</th>\n      <td>...</td>\n      <td>...</td>\n      <td>...</td>\n      <td>...</td>\n      <td>...</td>\n      <td>...</td>\n      <td>...</td>\n      <td>...</td>\n      <td>...</td>\n      <td>...</td>\n      <td>...</td>\n      <td>...</td>\n      <td>...</td>\n      <td>...</td>\n      <td>...</td>\n      <td>...</td>\n      <td>...</td>\n      <td>...</td>\n      <td>...</td>\n      <td>...</td>\n      <td>...</td>\n    </tr>\n    <tr>\n      <th>3739</th>\n      <td>2024-01-01 21:36:00</td>\n      <td>8</td>\n      <td>9</td>\n      <td>0.8</td>\n      <td>1</td>\n      <td>0</td>\n      <td>0</td>\n      <td>0</td>\n      <td>0</td>\n      <td>0</td>\n      <td>...</td>\n      <td>0</td>\n      <td>0</td>\n      <td>0</td>\n      <td>1</td>\n      <td>0</td>\n      <td>0</td>\n      <td>0</td>\n      <td>0</td>\n      <td>0</td>\n      <td>1</td>\n    </tr>\n    <tr>\n      <th>3740</th>\n      <td>2024-01-01 21:42:00</td>\n      <td>10</td>\n      <td>12</td>\n      <td>0.8</td>\n      <td>0</td>\n      <td>0</td>\n      <td>0</td>\n      <td>0</td>\n      <td>0</td>\n      <td>0</td>\n      <td>...</td>\n      <td>0</td>\n      <td>0</td>\n      <td>0</td>\n      <td>0</td>\n      <td>0</td>\n      <td>1</td>\n      <td>0</td>\n      <td>0</td>\n      <td>0</td>\n      <td>1</td>\n    </tr>\n    <tr>\n      <th>3741</th>\n      <td>2024-01-01 21:48:00</td>\n      <td>5</td>\n      <td>19</td>\n      <td>0.8</td>\n      <td>1</td>\n      <td>0</td>\n      <td>0</td>\n      <td>0</td>\n      <td>0</td>\n      <td>0</td>\n      <td>...</td>\n      <td>0</td>\n      <td>0</td>\n      <td>0</td>\n      <td>0</td>\n      <td>0</td>\n      <td>0</td>\n      <td>0</td>\n      <td>0</td>\n      <td>0</td>\n      <td>1</td>\n    </tr>\n    <tr>\n      <th>3742</th>\n      <td>2024-01-01 21:54:00</td>\n      <td>10</td>\n      <td>11</td>\n      <td>0.8</td>\n      <td>0</td>\n      <td>0</td>\n      <td>0</td>\n      <td>0</td>\n      <td>0</td>\n      <td>0</td>\n      <td>...</td>\n      <td>0</td>\n      <td>1</td>\n      <td>0</td>\n      <td>0</td>\n      <td>0</td>\n      <td>0</td>\n      <td>0</td>\n      <td>0</td>\n      <td>0</td>\n      <td>1</td>\n    </tr>\n    <tr>\n      <th>3743</th>\n      <td>2024-01-01 22:00:00</td>\n      <td>0</td>\n      <td>10</td>\n      <td>0.8</td>\n      <td>0</td>\n      <td>0</td>\n      <td>0</td>\n      <td>0</td>\n      <td>0</td>\n      <td>0</td>\n      <td>...</td>\n      <td>0</td>\n      <td>0</td>\n      <td>0</td>\n      <td>0</td>\n      <td>0</td>\n      <td>0</td>\n      <td>0</td>\n      <td>0</td>\n      <td>0</td>\n      <td>1</td>\n    </tr>\n  </tbody>\n</table>\n<p>3744 rows × 29 columns</p>\n</div>"
     },
     "execution_count": 3,
     "metadata": {},
     "output_type": "execute_result"
    }
   ],
   "source": [
    "metro_dataset"
   ],
   "metadata": {
    "collapsed": false,
    "ExecuteTime": {
     "end_time": "2024-02-14T12:51:10.311125200Z",
     "start_time": "2024-02-14T12:51:10.282162100Z"
    }
   }
  },
  {
   "cell_type": "code",
   "execution_count": 4,
   "outputs": [],
   "source": [
    "from datetime import datetime\n",
    "def update_crowded_rate(timestamp):\n",
    "    timestamp = datetime.strptime(timestamp, \"%Y-%m-%d %H:%M:%S\")\n",
    "    if timestamp.hour > 6 and timestamp.hour < 8:\n",
    "        return 0.8\n",
    "    elif timestamp.hour >= 8 and timestamp.hour < 12:\n",
    "        return 1.2\n",
    "    elif timestamp.hour >= 12 and timestamp.hour < 16:\n",
    "        return 1\n",
    "    elif timestamp.hour >= 16 and timestamp.hour < 20:\n",
    "        return 1.2\n",
    "    else:\n",
    "        return 0.8\n",
    "\n",
    "metro_dataset['timestamp'] = metro_dataset['timestamp'].apply(update_crowded_rate)"
   ],
   "metadata": {
    "collapsed": false,
    "ExecuteTime": {
     "end_time": "2024-02-14T12:51:10.403949500Z",
     "start_time": "2024-02-14T12:51:10.313796800Z"
    }
   }
  },
  {
   "cell_type": "code",
   "execution_count": 5,
   "outputs": [],
   "source": [
    "train_data, test_data = train_test_split(metro_dataset, test_size=0.2, random_state=42)\n",
    "train_data, val_data = train_test_split(train_data, test_size=0.2, random_state=42)\n",
    "\n",
    "# Extract the target column (input_count)\n",
    "train_target = train_data['input_count']\n",
    "val_target = val_data['input_count']\n",
    "test_target = test_data['input_count']"
   ],
   "metadata": {
    "collapsed": false,
    "ExecuteTime": {
     "end_time": "2024-02-14T12:51:10.405006500Z",
     "start_time": "2024-02-14T12:51:10.366172700Z"
    }
   }
  },
  {
   "cell_type": "code",
   "execution_count": 6,
   "outputs": [],
   "source": [
    "# Perform polynomial feature transformation\n",
    "poly = PolynomialFeatures(degree=2)\n",
    "train_data_poly = poly.fit_transform(train_data.drop('input_count', axis=1))\n",
    "val_data_poly = poly.transform(val_data.drop('input_count', axis=1))\n",
    "test_data_poly = poly.transform(test_data.drop('input_count', axis=1))"
   ],
   "metadata": {
    "collapsed": false,
    "ExecuteTime": {
     "end_time": "2024-02-14T12:51:10.441026900Z",
     "start_time": "2024-02-14T12:51:10.389896Z"
    }
   }
  },
  {
   "cell_type": "code",
   "execution_count": 7,
   "outputs": [],
   "source": [
    "# Linear Regression\n",
    "linear_model = LinearRegression()\n",
    "linear_model.fit(train_data_poly, train_target)\n",
    "linear_predictions = linear_model.predict(val_data_poly)\n",
    "linear_rmse = np.sqrt(mean_squared_error(val_target, linear_predictions))\n",
    "linear_r2 = r2_score(val_target, linear_predictions)"
   ],
   "metadata": {
    "collapsed": false,
    "ExecuteTime": {
     "end_time": "2024-02-14T12:51:10.599205100Z",
     "start_time": "2024-02-14T12:51:10.431053700Z"
    }
   }
  },
  {
   "cell_type": "code",
   "execution_count": 8,
   "outputs": [],
   "source": [
    "# XGBoost\n",
    "xgb_model = xgb.XGBRegressor()\n",
    "xgb_params = {\n",
    "    'n_estimators': [100, 200, 300],\n",
    "    'max_depth': [3, 4, 5]\n",
    "}\n",
    "xgb_grid = GridSearchCV(xgb_model, xgb_params, scoring='neg_root_mean_squared_error', cv=3)\n",
    "xgb_grid.fit(train_data_poly, train_target)\n",
    "xgb_model = xgb_grid.best_estimator_\n",
    "xgb_predictions = xgb_model.predict(val_data_poly)\n",
    "xgb_rmse = np.sqrt(mean_squared_error(val_target, xgb_predictions))\n",
    "xgb_r2 = r2_score(val_target, xgb_predictions)"
   ],
   "metadata": {
    "collapsed": false,
    "ExecuteTime": {
     "end_time": "2024-02-14T12:51:44.345919Z",
     "start_time": "2024-02-14T12:51:10.601876800Z"
    }
   }
  },
  {
   "cell_type": "code",
   "execution_count": 9,
   "outputs": [],
   "source": [
    "# Random Forest Regression\n",
    "rf_model = RandomForestRegressor()\n",
    "rf_params = {\n",
    "    'n_estimators': [100, 200, 300],\n",
    "    'max_depth': [3, 4, 5]\n",
    "}\n",
    "rf_grid = GridSearchCV(rf_model, rf_params, scoring='neg_root_mean_squared_error', cv=3)\n",
    "rf_grid.fit(train_data_poly, train_target)\n",
    "rf_model = rf_grid.best_estimator_\n",
    "rf_predictions = rf_model.predict(val_data_poly)\n",
    "rf_rmse = np.sqrt(mean_squared_error(val_target, rf_predictions))\n",
    "rf_r2 = r2_score(val_target, rf_predictions)"
   ],
   "metadata": {
    "collapsed": false,
    "ExecuteTime": {
     "end_time": "2024-02-14T12:53:24.302279400Z",
     "start_time": "2024-02-14T12:51:44.352114900Z"
    }
   }
  },
  {
   "cell_type": "code",
   "execution_count": 10,
   "outputs": [
    {
     "name": "stdout",
     "output_type": "stream",
     "text": [
      "XGBoost RMSE: 4.204138694193032\n",
      "XGBoost R-squared: 0.8748518313558644\n",
      "Linear Regression RMSE: 4.184607250624892\n",
      "Linear Regression R-squared: 0.8760119484174724\n",
      "Random Forest Regression RMSE: 4.529859968933572\n",
      "Random Forest Regression R-squared: 0.8547085751907065\n"
     ]
    }
   ],
   "source": [
    "\n",
    "\n",
    "# Save the models and their RMSE values\n",
    "models = {\n",
    "    'XGBoost': xgb_model,\n",
    "    'Linear Regression': linear_model,\n",
    "    'Random Forest Regression': rf_model\n",
    "}\n",
    "\n",
    "rmse_values = {\n",
    "    'XGBoost': xgb_rmse,\n",
    "    'Linear Regression': linear_rmse,\n",
    "    'Random Forest Regression': rf_rmse\n",
    "}\n",
    "\n",
    "r2_scores = {\n",
    "    'Linear Regression': linear_r2,\n",
    "    'Random Forest Regression': rf_r2,\n",
    "    'XGBoost': xgb_r2\n",
    "}\n",
    "\n",
    "# Print the RMSE values\n",
    "for model_name, rmse in rmse_values.items():\n",
    "    r2 = r2_scores[model_name]\n",
    "    print(f\"{model_name} RMSE: {rmse}\")\n",
    "    print(f\"{model_name} R-squared: {r2}\")\n"
   ],
   "metadata": {
    "collapsed": false,
    "ExecuteTime": {
     "end_time": "2024-02-14T12:53:24.315303200Z",
     "start_time": "2024-02-14T12:53:24.307265100Z"
    }
   }
  },
  {
   "cell_type": "code",
   "execution_count": 11,
   "outputs": [],
   "source": [
    "import pickle\n",
    "file_name = \"input_rate_model_xgb.pkl\"\n",
    "# save\n",
    "pickle.dump(xgb_model, open(file_name, \"wb\"))"
   ],
   "metadata": {
    "collapsed": false,
    "ExecuteTime": {
     "end_time": "2024-02-14T12:53:24.344214800Z",
     "start_time": "2024-02-14T12:53:24.318154800Z"
    }
   }
  },
  {
   "cell_type": "code",
   "execution_count": 19,
   "outputs": [],
   "source": [
    "# load\n",
    "xgb_model_loaded = pickle.load(open(file_name, \"rb\"))"
   ],
   "metadata": {
    "collapsed": false,
    "ExecuteTime": {
     "end_time": "2024-02-12T18:51:34.476276Z",
     "start_time": "2024-02-12T18:51:34.451319600Z"
    }
   }
  }
 ],
 "metadata": {
  "kernelspec": {
   "display_name": "Python 3",
   "language": "python",
   "name": "python3"
  },
  "language_info": {
   "codemirror_mode": {
    "name": "ipython",
    "version": 2
   },
   "file_extension": ".py",
   "mimetype": "text/x-python",
   "name": "python",
   "nbconvert_exporter": "python",
   "pygments_lexer": "ipython2",
   "version": "2.7.6"
  }
 },
 "nbformat": 4,
 "nbformat_minor": 0
}
